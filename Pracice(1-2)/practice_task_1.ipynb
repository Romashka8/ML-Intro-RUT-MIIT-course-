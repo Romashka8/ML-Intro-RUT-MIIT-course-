{
 "cells": [
  {
   "cell_type": "markdown",
   "id": "4ef2ce1a-7773-44a8-b706-06f5ea2442a7",
   "metadata": {},
   "source": [
    "<b>Задание:</b> реализовать скалярное произведение векторов тремя способами:\n",
    "<ol>\n",
    "    <li>Через цикл</li>\n",
    "    <li>Через векторное умножение</li>\n",
    "    <li>Через транспонирование</li>\n",
    "</ol>\n",
    "В задании потребуется создать два любых <i>вектора столбца</i> и продемонстрировать работу на них.<br>\n",
    "<b>Напоминание:</b> скалярное произведение(или взвешенная сумма) - это мера близости двух векторов, которая вычисляется по следующей формуле:<br>\n",
    "$\n",
    "\\overline{V}=(v_{1}, v_{2}, . . ., v_{i})\n",
    "$<br>\n",
    "$\n",
    "\\overline{U}=(u_{1}, u_{2}, . . ., u_{i})\n",
    "$, тогда $\n",
    "\\left\\langle V, U \\right\\rangle = \\sum_{j=1}^{i}v_{j}\\cdot u_{j}\n",
    "$<br>\n",
    "Или: $\n",
    "\\left\\langle V, U \\right\\rangle = U^{T}V\n",
    "$"
   ]
  },
  {
   "cell_type": "code",
   "execution_count": 1,
   "id": "e3455a5c-b1bf-4d95-9315-8af240fdf5e6",
   "metadata": {},
   "outputs": [],
   "source": [
    "import numpy as np"
   ]
  },
  {
   "cell_type": "code",
   "execution_count": 2,
   "id": "27185591-fb60-4ec4-a4ab-662736f83cb7",
   "metadata": {},
   "outputs": [],
   "source": [
    "def scalar_1(u, v):\n",
    "    res = 0\n",
    "    for i in range(len(u)):\n",
    "        res += u[i] * v[i]\n",
    "    return res\n",
    "\n",
    "def scalar_2(u, v):\n",
    "    return np.sum(u * v)\n",
    "\n",
    "def scalar_3(u, v):\n",
    "    return np.dot(u.T, v)"
   ]
  },
  {
   "cell_type": "code",
   "execution_count": 3,
   "id": "b4b6ea91-a3ee-4260-a9f1-db2e226483f3",
   "metadata": {},
   "outputs": [],
   "source": [
    "a = np.array([1, 2, 3]).reshape(3, -1)\n",
    "b = np.array([4, 5, 6]).reshape(3, -1)"
   ]
  },
  {
   "cell_type": "code",
   "execution_count": 4,
   "id": "514ac96f-fc78-4b63-9a70-09c770eeef4f",
   "metadata": {},
   "outputs": [
    {
     "data": {
      "text/plain": [
       "(array([[1],\n",
       "        [2],\n",
       "        [3]]),\n",
       " array([[4],\n",
       "        [5],\n",
       "        [6]]))"
      ]
     },
     "execution_count": 4,
     "metadata": {},
     "output_type": "execute_result"
    }
   ],
   "source": [
    "a, b"
   ]
  },
  {
   "cell_type": "code",
   "execution_count": 5,
   "id": "79a68f9a-aca7-420c-9541-6b7ccf647744",
   "metadata": {},
   "outputs": [
    {
     "data": {
      "text/plain": [
       "array([32])"
      ]
     },
     "execution_count": 5,
     "metadata": {},
     "output_type": "execute_result"
    }
   ],
   "source": [
    "scalar_1(a, b)"
   ]
  },
  {
   "cell_type": "code",
   "execution_count": 6,
   "id": "3a57b900-0b88-4283-9e62-c27151ef18d7",
   "metadata": {},
   "outputs": [
    {
     "data": {
      "text/plain": [
       "32"
      ]
     },
     "execution_count": 6,
     "metadata": {},
     "output_type": "execute_result"
    }
   ],
   "source": [
    "scalar_2(a, b)"
   ]
  },
  {
   "cell_type": "code",
   "execution_count": 7,
   "id": "9bf52429-66aa-4b82-9b7e-69bdd0395e7c",
   "metadata": {},
   "outputs": [
    {
     "data": {
      "text/plain": [
       "array([[32]])"
      ]
     },
     "execution_count": 7,
     "metadata": {},
     "output_type": "execute_result"
    }
   ],
   "source": [
    "scalar_3(a, b)"
   ]
  }
 ],
 "metadata": {
  "kernelspec": {
   "display_name": "Python 3 (ipykernel)",
   "language": "python",
   "name": "python3"
  },
  "language_info": {
   "codemirror_mode": {
    "name": "ipython",
    "version": 3
   },
   "file_extension": ".py",
   "mimetype": "text/x-python",
   "name": "python",
   "nbconvert_exporter": "python",
   "pygments_lexer": "ipython3",
   "version": "3.10.12"
  }
 },
 "nbformat": 4,
 "nbformat_minor": 5
}
