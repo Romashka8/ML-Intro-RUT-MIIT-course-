{
 "cells": [
  {
   "cell_type": "markdown",
   "id": "096fda5f-7ff6-433a-82e9-628c7021a5f4",
   "metadata": {},
   "source": [
    "# Необходимы импорты"
   ]
  },
  {
   "cell_type": "code",
   "execution_count": 1,
   "id": "5926f2de-6cb1-4d35-a4d0-fd5eab78e72c",
   "metadata": {},
   "outputs": [],
   "source": [
    "import warnings\n",
    "warnings.filterwarnings('ignore')\n",
    "\n",
    "import os\n",
    "import pickle\n",
    "from functools import reduce\n",
    "\n",
    "import numpy as np\n",
    "\n",
    "import matplotlib.pyplot as plt\n",
    "from mpl_toolkits.mplot3d import Axes3D\n",
    "import seaborn as sns"
   ]
  },
  {
   "cell_type": "markdown",
   "id": "13d4f5f9-f1d2-4086-a963-e0248b6dfabe",
   "metadata": {},
   "source": [
    "# Визуализация "
   ]
  },
  {
   "cell_type": "code",
   "execution_count": 2,
   "id": "c7a4db2d-6250-45d8-83f5-a95a96134738",
   "metadata": {},
   "outputs": [],
   "source": [
    "class PlotData:\n",
    "\n",
    "    def __init__(self, x, y, weights=[0, 0]):\n",
    "        \"\"\"\n",
    "        weights: array(float), weights = [w_0, w_1]\n",
    "        model: callable, in this case: f(x) = w_0 + w_1 * x\n",
    "        \"\"\"\n",
    "        self.x = np.array(x)\n",
    "        self.y = np.array(y)\n",
    "        self.weights = weights\n",
    "        self.model = np.vectorize(lambda x: self.weights[0] + self.weights[1] * x)\n",
    "\n",
    "    def plot_data(self, weights=None):\n",
    "        \n",
    "        self.weights = weights if weights else self.weights\n",
    "        model = self.model(self.x)\n",
    "\n",
    "        if sum(self.weights) != 0:\n",
    "            plt.plot(self.x, model, color='indigo', label='f(x)')\n",
    "        \n",
    "        plt.scatter(self.x, self.y, color='deeppink', label='data')\n",
    "        plt.scatter([], [], label=f'weights: w_0 = {self.weights[0]:.2f}; w_1 = {self.weights[1]:.2f}', color='lavender')\n",
    "\n",
    "        plt.title('Начальное распределение и линия регрессии')\n",
    "\n",
    "        plt.legend()\n",
    "        plt.grid(axis='y')\n",
    "        plt.show()"
   ]
  },
  {
   "cell_type": "markdown",
   "id": "f28515c7-648e-465e-814b-82a33e69c3af",
   "metadata": {},
   "source": [
    "# Стандартизация"
   ]
  },
  {
   "cell_type": "code",
   "execution_count": 3,
   "id": "d8794b77-8207-4824-9106-bfcca66681f7",
   "metadata": {},
   "outputs": [],
   "source": [
    "class Normilize:\n",
    "    def __init__(self, x):\n",
    "        self.x = np.array(x)\n",
    "\n",
    "    def fit_transform(self):\n",
    "        return (self.x - np.mean(self.x, axis=0)) / np.std(self.x, axis=0)"
   ]
  },
  {
   "cell_type": "markdown",
   "id": "92bb7ca3-22b3-48a3-ae55-33c8cf1d4c60",
   "metadata": {},
   "source": [
    "# MSELoss и GradientDescent"
   ]
  },
  {
   "cell_type": "markdown",
   "id": "1684f07b-554d-4285-85c8-b7cd2baf9f24",
   "metadata": {},
   "source": [
    "## Loss"
   ]
  },
  {
   "cell_type": "code",
   "execution_count": 4,
   "id": "f96c5c08-c90c-47bb-828c-e0c28981a1dc",
   "metadata": {},
   "outputs": [],
   "source": [
    "class MSELoss:\n",
    "\n",
    "    def __init__(self, weights, x, y):\n",
    "        \"\"\"\n",
    "        weights: array(float), weights = [w_0, w_1]\n",
    "        model: callable, in this case: f(x) = w_0 + w_1 * x\n",
    "        \"\"\"\n",
    "        self.weights = weights\n",
    "        self.model = lambda x: self.weights[0] + self.weights[1] * x\n",
    "        assert len(x) == len(y)\n",
    "        self.y = y\n",
    "        self.x = x\n",
    "        self.dim = (len(y), 1)\n",
    "\n",
    "    def get_loss(self, method):\n",
    "        \"\"\"\n",
    "        method: one of ('simple', 'func', 'vectorized(returned by default)')\n",
    "        \"\"\"\n",
    "        if method == 'simple':\n",
    "            return reduce(lambda a, b: a + b, [(self.model(self.x[i]) - self.y[i])**2 for i in range(len(self.x))]) / self.dim[0]\n",
    "        elif method == 'func':\n",
    "            return sum([(self.model(self.x[i]) - self.y[i])**2 for i in range(len(self.x))]) / self.dim[0]\n",
    "        \n",
    "        return ((np.vectorize(self.model)(np.array(self.x)) - np.array(self.y)) ** 2).mean()\n",
    "    \n",
    "    def update_weights(self, weights):\n",
    "        self.weights = [w for w in weights]"
   ]
  },
  {
   "cell_type": "markdown",
   "id": "c363b921-5067-4b03-8a91-8570217163e7",
   "metadata": {},
   "source": [
    "## Мат. часть"
   ]
  },
  {
   "cell_type": "markdown",
   "id": "a6d1c0c5-7531-4e41-b88d-b3707df997cc",
   "metadata": {},
   "source": [
    "<ul>\n",
    "    <li>$$MSE(f, X, y) = \\frac{1}{N}\\left\\| y - Xw \\right\\|_{2}^{2}$$</li>\n",
    "    <li>$$\\nabla_{w} MSE(f, X, y) = \\frac{2}{N}X^{T}(Xw-y)$$</li>\n",
    "</ul>\n",
    "<ul>\n",
    "<b>Вывод аналитического решения задачи регрессии и $\\nabla MSE$:</b><br>\n",
    "<li>$x^{(1)}, ., ., ., x^{(D)}$ - столбцы матрицы $X$(т.е. столбцы признаки) $\\Rightarrow$<br>\n",
    "$Xw=w_{1}x^(1) + . . . + w_{D}x^{D}$, то есть задачу регрессии можно сформулировать так: найти линейную комбинацию столбцов $x^{(1)}, ., ., ., x^{(D)}$, которая наилучшим способом приближает столбец $y$ по евклидовой норме - то есть найти проекцию вектора $y$ на подпространство, образованное векторами $x^{(1)}, ., ., ., x^{(D)}$.<br>\n",
    "Разложим $y=y_{||}+y_{\\bot }$, где $y_{∥}=Xwy_{∥}​=Xw$ - та самая проекция, а $y_{\\bot}$​ - ортогональная составляющая, то есть $y_⊥=y-Xw ⊥ x^{(1)}, ., ., ., x^{(D)}$.<br>\n",
    "В матричном виде это перепишется так(т.к. скалярное произведение ортогональных векторов - $0$):<br>\n",
    "$X^{T}(y-Xw)=0$, отсюда $w$ выражается как:\n",
    "$w = (X^{T}X)^{-1}X^{T}y$</li>\n",
    "<li>\n",
    "$\\nabla_{x} \\left\\| Xw - y \\right\\|_{2}^{2}=\\left\\langle Xw - y, Xw - y \\right\\rangle$; воспользуемся формулой дифференциала произведения и симметричностью скалярного произведения($h=\\Delta x$):<br>\n",
    "$$\n",
    "[D_{w_{0}}\\left\\langle Xw - y, Xw - y \\right\\rangle](h) = \\left\\langle [D_{w_{0}}(Xw - y)](h), Xw - y \\right\\rangle + \\left\\langle Xw - y, [D_{w_{0}}(Xw - y)](h) \\right\\rangle = 2\\left\\langle Xw - y, [D_{w_{0}}(Xw - y)](h) \\right\\rangle=2\\left\\langle (Xw_{0} - y), Xh \\right\\rangle=\\left\\langle 2X^{T}(Xw_{0} - y), h \\right\\rangle\n",
    "$$\n",
    "Получим, что:\n",
    "$\\nabla_{w_{0}}MSE=\\frac{2}{N}X^{T}(Xw_0-y)$\n",
    "</li>\n",
    "</ul>"
   ]
  },
  {
   "cell_type": "markdown",
   "id": "b680d2a1-cfe7-430a-8a2e-e1df41e87e27",
   "metadata": {},
   "source": [
    "$lim_{\\Delta x -> 0}=\\frac{f(x+\\Delta x) - f(x)}{\\Delta x} + o(x)$"
   ]
  },
  {
   "attachments": {
    "2dac5fab-a63f-4f84-87e5-062e4535309d.png": {
     "image/png": "[encoded data removed]"
    }
   },
   "cell_type": "markdown",
   "id": "a8742995-b35d-4903-b049-48913adafc86",
   "metadata": {},
   "source": [
    "Про ортогональную проекцию о иртогональную состовляющую:<br>\n",
    "![изображение.png](attachment:2dac5fab-a63f-4f84-87e5-062e4535309d.png)<br>\n",
    "<ul>\n",
    "    <li>$x^{\\bot}$ - ортогональная состовляющая $\\bar{x}$</li>\n",
    "    <li>$\\phi$ - проекция $\\bar{x}$</li>\n",
    "</ul>"
   ]
  },
  {
   "cell_type": "markdown",
   "id": "f0ad696f-1964-4158-b0cb-1419ee591751",
   "metadata": {},
   "source": [
    "## Gradient Descent"
   ]
  },
  {
   "cell_type": "code",
   "execution_count": 5,
   "id": "f4b91716-8c13-49d0-bc07-fc6e2f41a043",
   "metadata": {},
   "outputs": [],
   "source": [
    "class Optimizer:\n",
    "    \n",
    "    def __init__(self, x, y, learning_rate=0.01):\n",
    "        \"\"\"\n",
    "        weights: array(float), weights = [w_0, w_1]\n",
    "        model: callable, in this case: f(x) = w_0 + w_1 * x\n",
    "        \"\"\"\n",
    "        self.weights = [1, 1]\n",
    "        self.model = lambda x: self.weights[0] + self.weights[1] * x\n",
    "        self.learning_rate = learning_rate\n",
    "        assert len(x) == len(y)\n",
    "        self.y = y\n",
    "        self.x = x\n",
    "        self.dim = (len(y), 1)\n",
    "\n",
    "    def step(self, method='vectorized'):\n",
    "        \"\"\"\n",
    "        method: one of ('simple', 'func', 'vectorized(returned by default)')\n",
    "        \"\"\"\n",
    "        if method == 'simple':\n",
    "                grad =  [\n",
    "                        2 * reduce(lambda a, b: a + b, [(self.model(self.x[i]) - self.y[i]) for i in range(len(self.x))]) / self.dim[0],\n",
    "                        2 * reduce(lambda a, b: a + b, [(self.model(self.x[i]) - self.y[i]) * self.x[i] for i in range(len(self.x))]) / self.dim[0]\n",
    "                    ]\n",
    "        elif method == 'func':\n",
    "            grad = [\n",
    "                        2 * sum([(self.model(self.x[i]) - self.y[i]) for i in range(len(self.x))]) / self.dim[0],\n",
    "                        2 * sum([(self.model(self.x[i]) - self.y[i]) * self.x[i] for i in range(len(self.x))]) / self.dim[0]\n",
    "                    ]\n",
    "        else:\n",
    "            # col with ones for intercept\n",
    "            x_vec = np.column_stack([np.ones(self.dim[0]), self.x])\n",
    "            error = x_vec @ np.array(self.weights) - np.array(self.y)\n",
    "            grad = 2 * x_vec.T @ error / self.dim[0]\n",
    "\n",
    "        self.weights = [self.weights[i] - self.learning_rate * grad[i] for i in range(len(grad))]\n",
    "\n",
    "        return self.weights"
   ]
  },
  {
   "cell_type": "markdown",
   "id": "b8a676b2-d996-41be-8205-1e99ee1b01b6",
   "metadata": {},
   "source": [
    "# Predictor"
   ]
  },
  {
   "cell_type": "code",
   "execution_count": 6,
   "id": "240d3635-3242-4647-b271-7484059ac871",
   "metadata": {},
   "outputs": [],
   "source": [
    "class Predictor:\n",
    "\n",
    "    def __init__(self, weights=[1, 1]):\n",
    "        \n",
    "        self.weights = weights\n",
    "\n",
    "    def predict(self, x, weights=None):\n",
    "\n",
    "        self.weights = weights if weights else self.weights\n",
    "\n",
    "        return self.weights[0] + self.weights[1] * x"
   ]
  },
  {
   "cell_type": "markdown",
   "id": "54dc2499-3e77-47cd-95ad-ed5696b5f781",
   "metadata": {},
   "source": [
    "# Tools"
   ]
  },
  {
   "cell_type": "code",
   "execution_count": 7,
   "id": "fab58891-91ff-4498-bad6-80a2c4174c6c",
   "metadata": {},
   "outputs": [],
   "source": [
    "def read_data(filename):\n",
    "\n",
    "    with open(os.path.join(os.getcwd(), filename), 'r') as f:\n",
    "        data = [list(map(float, row.strip().split(','))) for row in f.readlines()]\n",
    "    \n",
    "    return data\n",
    "\n",
    "def save_weights(filename, weights):\n",
    "    \n",
    "    with open(os.path.join(os.getcwd(), filename), 'wb') as f:\n",
    "        pickle.dump(weights, f)\n",
    "\n",
    "def load_model(filename):\n",
    "    weights = pickle.load(open(os.path.join(os.getcwd(), filename), 'rb'))\n",
    "    return weights\n",
    "\n",
    "def train(x, y, iterations=100, learning_rate=0.01, verbose=False, method='simple'):\n",
    "\n",
    "    opt = Optimizer(x, y, learning_rate)\n",
    "    loss = MSELoss([0, 0], x, y)\n",
    "\n",
    "    for iter in range(1, iterations + 1):\n",
    "        \n",
    "        weights = opt.step(method)\n",
    "        loss.update_weights(weights)\n",
    "\n",
    "        if verbose:\n",
    "            print(f'Loss на {iter} итерации: ', loss.get_loss(method))\n",
    "    \n",
    "    return weights, loss.get_loss(method)\n",
    "\n",
    "def find_best_model(x, y, grid=None, method='simple'):\n",
    "    \n",
    "    grid = grid if grid else {'iterations': np.arange(1, 250, 10), 'leanrning_rate': [0.001, 0.003, 0.01, 0.5, 0.9]}\n",
    "    best_loss = float('inf')\n",
    "    best_pair = [None, None]\n",
    "    bets_weights = [None, None]\n",
    "\n",
    "    p_1, p_2 = grid.keys()\n",
    "    \n",
    "    for iter in grid[p_1]:\n",
    "        for lr in grid[p_2]:\n",
    "            weights, loss = train(x, y, iterations=iter, learning_rate=lr, method=method)\n",
    "            if loss < best_loss:\n",
    "                best_loss, best_pair, bets_weights = loss, (iter, lr), weights\n",
    "    \n",
    "    return bets_weights, best_loss, best_pair"
   ]
  },
  {
   "cell_type": "markdown",
   "id": "ad23f353-c9f3-4f29-b5b4-96daf752b7bf",
   "metadata": {},
   "source": [
    "# Main"
   ]
  },
  {
   "cell_type": "code",
   "execution_count": 8,
   "id": "c5863ecd-71ac-4952-8c37-c88724332f7d",
   "metadata": {},
   "outputs": [],
   "source": [
    "def main(plot=False):\n",
    "\n",
    "    data = np.array(read_data('ex1data1.txt'))\n",
    "    x, y = data[:, 0], data[:, 1]\n",
    "    weights = [0, 0]\n",
    "\n",
    "    if plot:\n",
    "        plotter = PlotData(x, y)\n",
    "        plotter.plot_data()\n",
    "\n",
    "    method = 'simple' # 'simple', 'func', 'vectorized'\n",
    "    loss = MSELoss(weights, x, y)\n",
    "\n",
    "    if plot: print('Стартовый loss: ', loss.get_loss(method))\n",
    "    \n",
    "    param_grid = {'iterations': [250], 'leanrning_rate': [0.001, 0.003, 0.01, 0.5, 0.9]}\n",
    "\n",
    "    best_weights, best_loss, best_pair = find_best_model(x, y, grid=param_grid, method=method)\n",
    "\n",
    "    if plot: print('Лучший loss: ', best_loss)\n",
    "    if plot: plotter.plot_data(best_weights)\n",
    "\n",
    "    save_weights('weights.pkl', best_weights)"
   ]
  },
  {
   "cell_type": "markdown",
   "id": "ebed08b9-bc9b-4484-a3a3-4eb4b7e15392",
   "metadata": {},
   "source": [
    "# Решение градиеными методами"
   ]
  },
  {
   "cell_type": "code",
   "execution_count": 9,
   "id": "3290461f-2ce9-49cc-a88d-352e4d776cde",
   "metadata": {},
   "outputs": [
    {
     "data": {
      "image/png": "[encoded data removed]",
      "text/plain": [
       "<Figure size 640x480 with 1 Axes>"
      ]
     },
     "metadata": {},
     "output_type": "display_data"
    },
    {
     "name": "stdout",
     "output_type": "stream",
     "text": [
      "Стартовый loss:  64.14546775491131\n",
      "Лучший loss:  9.662447756103345\n"
     ]
    },
    {
     "data": {
      "image/png": "[encoded data removed]",
      "text/plain": [
       "<Figure size 640x480 with 1 Axes>"
      ]
     },
     "metadata": {},
     "output_type": "display_data"
    }
   ],
   "source": [
    "main(True)"
   ]
  },
  {
   "cell_type": "markdown",
   "id": "0ecce86b-a52b-44dd-997b-1a3e579e38d3",
   "metadata": {},
   "source": [
    "# Предсказание цены"
   ]
  },
  {
   "cell_type": "code",
   "execution_count": 10,
   "id": "a2f61128-c929-4dc6-9f6e-ed28ff0b2749",
   "metadata": {},
   "outputs": [
    {
     "name": "stdout",
     "output_type": "stream",
     "text": [
      "Ожидаемая прибыль:\n"
     ]
    },
    {
     "name": "stdin",
     "output_type": "stream",
     "text": [
      "Введите число пунктов:  23\n"
     ]
    },
    {
     "name": "stdout",
     "output_type": "stream",
     "text": [
      "\n",
      "    Градиент\n",
      "--------------------------------------------------\n",
      "       20.96\n"
     ]
    },
    {
     "name": "stdin",
     "output_type": "stream",
     "text": [
      "\n",
      "Выйти?(0, 1) -  1\n"
     ]
    }
   ],
   "source": [
    "weights = load_model('weights.pkl')\n",
    "pred_grad = Predictor(weights=weights)\n",
    "\n",
    "# Шапка таблицы\n",
    "header = f\"\\n{'Градиент':>12}\"\n",
    "separator = \"-\" * 50\n",
    "\n",
    "print(\"Ожидаемая прибыль:\")\n",
    "\n",
    "while True:\n",
    "    x_1 = int(input('Введите число пунктов: '))\n",
    "    \n",
    "    # Получаем предсказания\n",
    "    grad = pred_grad.predict(x_1)\n",
    "    \n",
    "    # Форматируем вывод\n",
    "    print(header)\n",
    "    print(separator)\n",
    "    print(f\"{grad:>12.2f}\")\n",
    "    \n",
    "    out = int(input('\\nВыйти?(0, 1) - '))\n",
    "    if out == 1: \n",
    "        break"
   ]
  }
 ],
 "metadata": {
  "kernelspec": {
   "display_name": "Python 3 (ipykernel)",
   "language": "python",
   "name": "python3"
  },
  "language_info": {
   "codemirror_mode": {
    "name": "ipython",
    "version": 3
   },
   "file_extension": ".py",
   "mimetype": "text/x-python",
   "name": "python",
   "nbconvert_exporter": "python",
   "pygments_lexer": "ipython3",
   "version": "3.10.12"
  }
 },
 "nbformat": 4,
 "nbformat_minor": 5
}
